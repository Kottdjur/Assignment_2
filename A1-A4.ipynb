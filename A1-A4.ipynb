{
 "cells": [
  {
   "cell_type": "markdown",
   "metadata": {},
   "source": [
    "# Question A.1\n",
    "## A.1.1"
   ]
  },
  {
   "cell_type": "code",
   "execution_count": 1,
   "metadata": {
    "scrolled": true
   },
   "outputs": [
    {
     "name": "stdout",
     "output_type": "stream",
     "text": [
      "Lines in EN corpus:  1862234\n"
     ]
    }
   ],
   "source": [
    "from pyspark import SparkContext\n",
    "sc = SparkContext.getOrCreate()\n",
    "en_corpus = sc.textFile(\"/home/emma/Documents/LDSA/Assignment_2/Corpus/europarl-v7.sv-en.en\")\n",
    "en_corpus.cache()\n",
    "lines_en = en_corpus.count()\n",
    "print(\"Lines in EN corpus: \",lines_en)"
   ]
  },
  {
   "cell_type": "markdown",
   "metadata": {},
   "source": [
    "## A.1.2"
   ]
  },
  {
   "cell_type": "code",
   "execution_count": 2,
   "metadata": {},
   "outputs": [
    {
     "name": "stdout",
     "output_type": "stream",
     "text": [
      "Lines in SV corpus:  1862234\n"
     ]
    }
   ],
   "source": [
    "sv_corpus = sc.textFile(\"/home/emma/Documents/LDSA/Assignment_2/Corpus/europarl-v7.sv-en.sv\")\n",
    "sv_corpus.cache()\n",
    "lines_sv = sv_corpus.count()\n",
    "print(\"Lines in SV corpus: \",lines_sv)"
   ]
  },
  {
   "cell_type": "markdown",
   "metadata": {},
   "source": [
    "## A.1.3"
   ]
  },
  {
   "cell_type": "code",
   "execution_count": 3,
   "metadata": {},
   "outputs": [
    {
     "name": "stdout",
     "output_type": "stream",
     "text": [
      "Equal number of lines: \n"
     ]
    },
    {
     "data": {
      "text/plain": [
       "True"
      ]
     },
     "execution_count": 3,
     "metadata": {},
     "output_type": "execute_result"
    }
   ],
   "source": [
    "print(\"Equal number of lines: \")\n",
    "lines_en == lines_sv"
   ]
  },
  {
   "cell_type": "markdown",
   "metadata": {},
   "source": [
    "## A.1.4"
   ]
  },
  {
   "cell_type": "code",
   "execution_count": 4,
   "metadata": {},
   "outputs": [
    {
     "name": "stdout",
     "output_type": "stream",
     "text": [
      "Number of partitions, EN:  9\n",
      "Number of partitions, SV:  9\n"
     ]
    }
   ],
   "source": [
    "print(\"Number of partitions, EN: \",en_corpus.getNumPartitions())\n",
    "print(\"Number of partitions, SV: \",sv_corpus.getNumPartitions())"
   ]
  },
  {
   "cell_type": "markdown",
   "metadata": {},
   "source": [
    "# Question A.2\n",
    "## A.2.1"
   ]
  },
  {
   "cell_type": "code",
   "execution_count": 5,
   "metadata": {},
   "outputs": [],
   "source": [
    "def preprocess(line):\n",
    "    return line.lower()"
   ]
  },
  {
   "cell_type": "code",
   "execution_count": 6,
   "metadata": {},
   "outputs": [],
   "source": [
    "en_corpus_low = en_corpus.filter(lambda x: not x.startswith(\"<\")).map(preprocess)\n",
    "sv_corpus_low = sv_corpus.filter(lambda x: not x.startswith(\"<\")).map(preprocess)"
   ]
  },
  {
   "cell_type": "markdown",
   "metadata": {},
   "source": [
    "## A.2.2"
   ]
  },
  {
   "cell_type": "code",
   "execution_count": 7,
   "metadata": {},
   "outputs": [
    {
     "name": "stdout",
     "output_type": "stream",
     "text": [
      "resumption of the session\n",
      "i declare resumed the session of the european parliament adjourned on friday 17 december 1999, and i would like once again to wish you a happy new year in the hope that you enjoyed a pleasant festive period.\n",
      "although, as you will have seen, the dreaded 'millennium bug' failed to materialise, still the people in a number of countries suffered a series of natural disasters that truly were dreadful.\n",
      "you have requested a debate on this subject in the course of the next few days, during this part-session.\n",
      "in the meantime, i should like to observe a minute' s silence, as a number of members have requested, on behalf of all the victims concerned, particularly those of the terrible storms, in the various countries of the european union.\n",
      "please rise, then, for this minute' s silence.\n",
      "(the house rose and observed a minute' s silence)\n",
      "madam president, on a point of order.\n",
      "you will be aware from the press and television that there have been a number of bomb explosions and killings in sri lanka.\n",
      "one of the people assassinated very recently in sri lanka was mr kumar ponnambalam, who had visited the european parliament just a few months ago.\n",
      "would it be appropriate for you, madam president, to write a letter to the sri lankan president expressing parliament's regret at his and the other violent deaths in sri lanka and urging her to do everything she possibly can to seek a peaceful reconciliation to a very difficult situation?\n",
      "yes, mr evans, i feel an initiative of the type you have just suggested would be entirely appropriate.\n",
      "if the house agrees, i shall do as mr evans has suggested.\n",
      "madam president, on a point of order.\n",
      "i would like your advice about rule 143 concerning inadmissibility.\n",
      "my question relates to something that will come up on thursday and which i will then raise again.\n",
      "the cunha report on multiannual guidance programmes comes before parliament on thursday and contains a proposal in paragraph 6 that a form of quota penalties should be introduced for countries which fail to meet their fleet reduction targets annually.\n",
      "it says that this should be done despite the principle of relative stability.\n",
      "i believe that the principle of relative stability is a fundamental legal principle of the common fisheries policy and a proposal to subvert it would be legally inadmissible.\n",
      "i want to know whether one can raise an objection of that kind to what is merely a report, not a legislative proposal, and whether that is something i can competently do on thursday.\n",
      "that is precisely the time when you may, if you wish, raise this question, i.e. on thursday prior to the start of the presentation of the report.\n",
      "\n",
      "madam president, coinciding with this year' s first part-session of the european parliament, a date has been set, unfortunately for next thursday, in texas in america, for the execution of a young 34 year-old man who has been sentenced to death. we shall call him mr hicks.\n",
      "at the request of a french member, mr zimeray, a petition has already been presented, which many people signed, including myself. however, i would ask you, in accordance with the line which is now constantly followed by the european parliament and by the whole of the european community, to make representations, using the weight of your prestigious office and the institution you represent, to the president and to the governor of texas, mr bush, who has the power to order a stay of execution and to reprieve the condemned person.\n",
      "this is all in accordance with the principles that we have always upheld.\n",
      "thank you, mr segni, i shall do so gladly.\n",
      "indeed, it is quite in keeping with the positions this house has always adopted.\n",
      "madam president, i should like to draw your attention to a case in which this parliament has consistently shown an interest.\n",
      "it is the case of alexander nikitin.\n",
      "all of us here are pleased that the courts have acquitted him and made it clear that in russia, too, access to environmental information is a constitutional right.\n",
      "now, however, he is to go before the courts once more because the public prosecutor is appealing.\n",
      "we know, and we have stated as much in very many resolutions indeed, including specifically during the last plenary part-session of last year, that this is not solely a legal case and that it is wrong for alexander nikitin to be accused of criminal activity and treason because of our involvement as the beneficiaries of his findings.\n",
      "these findings form the basis of the european programmes to protect the barents sea, and that is why i would ask you to examine a draft letter setting out the most important facts and to make parliament's position, as expressed in the resolutions which it has adopted, clear as far as russia is concerned.\n",
      "yes, mrs schroedter, i shall be pleased to look into the facts of this case when i have received your letter.\n",
      "madam president, i would firstly like to compliment you on the fact that you have kept your word and that, during this first part-session of the new year, the number of television channels in our offices has indeed increased considerably.\n",
      "but, madam president, my personal request has not been met.\n",
      "although there are now two finnish channels and one portuguese one, there is still no dutch channel, which is what i had requested because dutch people here like to be able to follow the news too when we are sent to this place of exile every month.\n",
      "i would therefore once more ask you to ensure that we get a dutch channel as well.\n",
      "mrs plooij-van gorsel, i can tell you that this matter is on the agenda for the quaestors' meeting on wednesday.\n",
      "it will, i hope, be examined in a positive light.\n",
      "mrs lynne, you are quite right and i shall check whether this has actually not been done.\n",
      "i shall also refer the matter to the college of quaestors, and i am certain that they will be keen to ensure that we comply with the regulations we ourselves vote on.\n",
      "madam president, mrs díez gonzález and i had tabled questions on certain opinions of the vice-president, mrs de palacio, which appeared in a spanish newspaper.\n",
      "the competent services have not included them in the agenda on the grounds that they had been answered in a previous part-session.\n",
      "i would ask that they reconsider, since this is not the case.\n",
      "the questions answered previously referred to mrs de palacio' s intervention, on another occasion, and not to these comments which appeared in the abc newspaper on 18 november.\n",
      "mr berenguer fuster, we shall check all this.\n",
      "i admit that, at present, the matter seems to be somewhat confused.\n",
      "we shall therefore look into it properly to ensure that everything is as it should be.\n",
      "in any event, this question is not presently included among the requests for topical and urgent debate on thursday.\n",
      "agenda\n",
      "the next item is the verification of the final version of the draft agenda as drawn up by the conference of presidents at its meeting of 13 january pursuant to rule 110 of the rules of procedure.\n",
      "no amendments have been proposed relating to monday and tuesday.\n",
      "relating to wednesday:\n",
      "the group of the party of european socialists requests that a commission statement be included on its strategic objectives for the next five years and on the administrative reform of the commission.\n",
      "i would like mr barón crespo, who made the request, to speak to propose it. that is, if he so wishes, of course.\n",
      "then we shall follow the usual procedure, hearing one speaker in favour and one against.\n",
      "madam president, the presentation of the prodi commission' s political programme for the whole legislature was initially a proposal by the group of the party of european socialists which was unanimously approved by the conference of presidents in september and which was also explicitly accepted by president prodi, who reiterated his commitment in his inaugural speech.\n",
      "this commitment is important because the commission is a body with a monopoly of initiative in accordance with the treaties and, therefore, basically dictates this parliament' s political and legislative activity for the next five years.\n",
      "i would also like to point out, madam president, that this parliament voted to express its confidence in president prodi during the previous legislature. it did so again during this legislature, in july, and then, in september, it voted once more to approve the whole commission.\n",
      "there has therefore been enough time for the commission to prepare its programme and for us to become familiar with it and explain it to our citizens.\n",
      "to this end, i would like to remind you of the resolution of 15 september, which recommended that the proposal be presented as soon as possible.\n",
      "the events of last week - which originated outside the conference of presidents, that conference being used simply to corroborate and ratify decisions taken elsewhere - present us with a dilemma. either the commission is not ready to present this programme, in which case it should clarify it.\n",
      "according to its president, it is in a position to do so.\n",
      "given that the commission is represented by vice-president de palacio, i believe that, before voting, it would help if the commission could let us know how ready it is to present this programme, as agreed. alternatively, parliament is not ready to examine this programme, as some appear to be suggesting.\n",
      "in my opinion, this second hypothesis would imply the failure of parliament in its duty as a parliament, as well as introducing an original thesis, an unknown method which consists of making political groups aware, in writing, of a speech concerning the commission' s programme a week earlier - and not a day earlier, as had been agreed - bearing in mind that the legislative programme will be discussed in february, so we could forego the debate, since on the next day our citizens will hear about it in the press and on the internet and parliament will no longer have to worry about it.\n",
      "my group believes that since a parliament is meant to listen, debate and reflect, there can be no justification whatsoever for this delay and we believe that, if the commission is ready to do so, we still have time to re-establish the original agreement between parliament and the commission and proceed in a manner which fulfils our duty to our fellow citizens.\n",
      "therefore, the proposal of the group of the party of european socialists, and which you have mentioned, is that the prodi commission present its legislative programme on wednesday, including its proposed administrative reform, because, otherwise, we could find ourselves in a paradoxical situation: on the pretext that there is no text, on the one hand, the president of the commission would be denied his right to speak in this parliament and, on the other hand, there would be a debate on a reform when parliament had no prior knowledge of the texts on which it is based.\n",
      "therefore, madam president, i would ask you to request that the commission express its opinion on this issue and that we then proceed to the vote.\n",
      "(applause from the pse group)\n",
      "i propose that we vote on the request of the group of the party of european socialists that the commission statement on its strategic objectives should be reinstated.\n",
      "(parliament rejected the request) president.\n",
      "still on the subject of wednesday' s sitting, i have another proposal regarding the oral question on capital tax.\n",
      "the ppe-de group is requesting that this item be taken off the agenda.\n",
      "is there a member who wishes to speak on behalf of this group to propose this?\n",
      "madam president, i can hear a ripple of laughter from the socialists.\n",
      "i was told that large sections of the socialist group were also keen to have this item taken off the agenda, because at the vote in the conference of presidents no vote was received from the working group of members of the socialist group responsible for this matter.\n",
      "i do not know whether this information is correct, but the ppe-de group would, in any case, be grateful if this item were removed because parliament has addressed this issue several times already.\n",
      "decisions have also been adopted against a tax of this kind.\n",
      "that is why my group moves that this item be taken off the agenda.\n",
      "thank you, mr poettering.\n",
      "we shall now hear mr wurtz speaking against this request.\n",
      "madam president, i would firstly like to point out mr poettering' s lack of logic.\n",
      "he has just been preaching to the group of the party of european socialists because they went back on a decision taken in a perfectly clear manner at the conference of presidents, and now he is doing just the same.\n",
      "we discussed that matter and we were unanimous, with the exception of the ppe and eldr groups. as my fellow chairmen will recall, i even mentioned that it was not a matter of knowing whether one was for or against the tobin tax, but of whether one dared to hear what the commission and the council thought of it.\n",
      "it is not a lot to ask.\n",
      "i therefore repeat the proposal that this oral question to the commission and the council should be retained so that we can find out, once and for all, the positions of these two bodies regarding the proposal which is relatively modest but which would give a clear message to public opinion, particularly after the tide of feeling generated by the failure of the seattle conference.\n",
      "we shall proceed to vote on the ppe-de group' s request that the oral question regarding the capital tax be withdrawn from the agenda.\n",
      "(parliament rejected the request, with 164 votes for, 166 votes against and 7 abstentions)\n",
      "madam president, i would like to thank mr poettering for advertising this debate.\n",
      "thank you very much.\n",
      "madam president, has my vote been counted?\n",
      "i was unable to vote electronically, since i do not have a card.\n",
      "my vote was \"in favour\" .\n",
      "indeed, if we add the two members who have declared themselves, then the result of the vote would be ....\n",
      "madam president, in the earlier vote - and i will abide by your ruling on this matter - on the question of the strategic plan of the commission i indicated that i would like to speak in advance of the vote on behalf of my group.\n",
      "that did not happen.\n",
      "i would appreciate it if, on the close of this item of business, i might be allowed to give an explanation of vote on behalf of my group.\n",
      "this is an important matter.\n",
      "it would be useful for the record of the house to state how people perceive what we have just done in the light of their own political analysis.\n"
     ]
    }
   ],
   "source": [
    "for line in en_corpus_low.take(100):\n",
    "    print(line)"
   ]
  },
  {
   "cell_type": "markdown",
   "metadata": {},
   "source": [
    "## A.2.3\n",
    "Number of lines after preprocessing:"
   ]
  },
  {
   "cell_type": "code",
   "execution_count": 8,
   "metadata": {},
   "outputs": [
    {
     "name": "stdout",
     "output_type": "stream",
     "text": [
      "Lines in EN corpus:  1862234\n",
      "Lines in SV corpus:  1862234\n"
     ]
    }
   ],
   "source": [
    "print(\"Lines in EN corpus: \",en_corpus_low.count())\n",
    "print(\"Lines in SV corpus: \", sv_corpus_low.count())"
   ]
  },
  {
   "cell_type": "markdown",
   "metadata": {},
   "source": [
    "# Question A.3\n",
    "## A.3.1\n",
    "Split into words, map into (word, 1) pairs, reduce and sort by counts."
   ]
  },
  {
   "cell_type": "code",
   "execution_count": 9,
   "metadata": {},
   "outputs": [],
   "source": [
    "EN_counts = en_corpus_low.flatMap(lambda x: x.split(\" \")).map(lambda y: (y, 1)) \\\n",
    "                        .reduceByKey(lambda a,b: a+b).sortBy(lambda x: -x[1])\n",
    "SV_counts = sv_corpus_low.flatMap(lambda x: x.split(\" \")).map(lambda y: (y, 1)) \\\n",
    "                        .reduceByKey(lambda a,b: a+b).sortBy(lambda x: -x[1])"
   ]
  },
  {
   "cell_type": "markdown",
   "metadata": {},
   "source": [
    "## A.3.2"
   ]
  },
  {
   "cell_type": "code",
   "execution_count": 10,
   "metadata": {},
   "outputs": [
    {
     "name": "stdout",
     "output_type": "stream",
     "text": [
      "Top 10 words in EN corpus:\n",
      "('the', 3498375)\n",
      "('of', 1659758)\n",
      "('to', 1539760)\n",
      "('and', 1288401)\n",
      "('in', 1085993)\n",
      "('that', 797516)\n",
      "('a', 773522)\n",
      "('is', 758050)\n",
      "('for', 534242)\n",
      "('we', 522849)\n",
      "Top 10 words in SV corpus:\n",
      "('att', 1706293)\n",
      "('och', 1344830)\n",
      "('i', 1050774)\n",
      "('det', 924866)\n",
      "('som', 913276)\n",
      "('för', 908680)\n",
      "('av', 738068)\n",
      "('är', 694381)\n",
      "('en', 620310)\n",
      "('vi', 539797)\n"
     ]
    }
   ],
   "source": [
    "print(\"Top 10 words in EN corpus:\")\n",
    "for line in EN_counts.take(10):\n",
    "    print(line)\n",
    "\n",
    "print(\"Top 10 words in SV corpus:\")\n",
    "for line in SV_counts.take(10):\n",
    "    print(line)"
   ]
  },
  {
   "cell_type": "markdown",
   "metadata": {},
   "source": [
    "# Question A.4\n",
    "## A.4.1\n",
    "Index the lines and combine lines with the same index."
   ]
  },
  {
   "cell_type": "code",
   "execution_count": 11,
   "metadata": {},
   "outputs": [],
   "source": [
    "en_corpus_nr = en_corpus_low.zipWithIndex().map(lambda x: (x[1], x[0]))\n",
    "sv_corpus_nr = sv_corpus_low.zipWithIndex().map(lambda x: (x[1], x[0]))"
   ]
  },
  {
   "cell_type": "code",
   "execution_count": 12,
   "metadata": {},
   "outputs": [
    {
     "name": "stdout",
     "output_type": "stream",
     "text": [
      "(0, ('resumption of the session', 'återupptagande av sessionen'))\n",
      "(1835010, ('i hope that he will take a little time to address this issue before we close.', 'jag hoppas att han tar sig litet tid för att gå in på det.'))\n",
      "(1310724, ('they must be able to make an informed choice on the basis of clear information.', 'de måste få möjlighet att göra ett upplyst val med utgångspunkt från tydlig information.'))\n",
      "(786438, ('i believe that it would be desirable for sis ii to be up and running as soon as possible and i feel that the commission should notify parliament of any delays that occur and the reasons behind those delays.', 'det är önskvärt att sis ii installeras och tas i drift så snart som möjligt, och jag anser att kommissionen bör meddela parlamentet om det uppstår eventuella förseningar och skälen till dem.'))\n",
      "(262152, ('the distribution of automobiles has always had special treatment, a sectoral treatment, and, if pushed, i would say that this system may have made sense before, when there were different regulations for the different distribution systems, but perhaps it makes less sense now.', 'fördelningen av personbilar har alltid behandlats särskilt och sektoriellt och om jag tar det snabbt, skulle detta system kunna ha varit meningsfullt förut när det fanns flera olika förordningar för de olika distributionssystemen, men nu kanske det inte är fullt så meningsfullt.'))\n"
     ]
    }
   ],
   "source": [
    "combined = en_corpus_nr.join(sv_corpus_nr)\n",
    "for line in combined.take(5):\n",
    "    print(line)"
   ]
  },
  {
   "cell_type": "markdown",
   "metadata": {},
   "source": [
    "Split sentences into words and remove sentences without a match, with more than 10 words or where the number of words in both languages don't match."
   ]
  },
  {
   "cell_type": "code",
   "execution_count": 13,
   "metadata": {},
   "outputs": [],
   "source": [
    "comb_words = combined.map(lambda x: (x[0], x[1][0].split(\" \"), x[1][1].split(\" \"))) \\\n",
    "                        .filter(lambda x: len(x[1]) > 0 and len(x[2]) > 0) \\\n",
    "                        .filter(lambda x: len(x[1]) <= 10 and len(x[2]) <= 10) \\\n",
    "                        .filter(lambda x: len(x[1]) == len(x[2]))"
   ]
  },
  {
   "cell_type": "code",
   "execution_count": 14,
   "metadata": {},
   "outputs": [
    {
     "name": "stdout",
     "output_type": "stream",
     "text": [
      "85499\n",
      "(1048698, ['in', 'reality,', 'very', 'few', 'meet', 'strangers', 'off', 'the', 'internet.'], ['mycket', 'få', 'träffar', 'främmande', 'kontakter', 'från', 'nätet', 'i', 'verkligheten.'])\n",
      "(786564, ['corrections', 'to', 'votes', 'and', 'voting', 'intentions:', 'see', 'minutes'], ['rättelser', 'till', 'avgivna', 'röster', 'och', 'röstavsikter:', 'se', 'protokollet'])\n",
      "(1835298, ['a', 'mandate', 'to', 'search', 'for', 'peace', 'in', 'our', 'country.'], ['ett', 'mandat', 'för', 'att', 'försöka', 'åstadkomma', 'fred', 'i', 'landet.'])\n",
      "(1048986, ['this', 'will', 'improve', 'support', 'within', 'the', 'industry.'], ['det', 'kommer', 'att', 'öka', 'stödet', 'inom', 'industrin.'])\n",
      "(1311156, ['we', 'must', 'act.'], ['vi', 'måste', 'agera.'])\n"
     ]
    }
   ],
   "source": [
    "print(comb_words.count())\n",
    "for line in comb_words.take(5):\n",
    "    print(line)"
   ]
  },
  {
   "cell_type": "markdown",
   "metadata": {},
   "source": [
    "Zip the sentences together and reduce to count the most common word pairs."
   ]
  },
  {
   "cell_type": "code",
   "execution_count": 26,
   "metadata": {},
   "outputs": [],
   "source": [
    "word_pairs = comb_words.flatMap(lambda x: zip(x[1], x[2])).map(lambda x: (x, 1)) \\\n",
    "                        .reduceByKey(lambda a,b: a+b).sortBy(lambda x: -x[1])"
   ]
  },
  {
   "cell_type": "markdown",
   "metadata": {},
   "source": [
    "Most common word pairs:"
   ]
  },
  {
   "cell_type": "code",
   "execution_count": 30,
   "metadata": {},
   "outputs": [
    {
     "name": "stdout",
     "output_type": "stream",
     "text": [
      "(('is', 'är'), 11221)\n",
      "(('we', 'vi'), 6594)\n",
      "(('i', 'jag'), 6123)\n",
      "(('and', 'och'), 3926)\n",
      "(('this', 'detta'), 3782)\n",
      "(('a', 'en'), 3496)\n",
      "(('it', 'det'), 3416)\n",
      "(('not', 'inte'), 3097)\n",
      "(('that', 'det'), 3042)\n",
      "(('closed.', 'avslutad.'), 2964)\n",
      "(('(applause)', '(applåder)'), 2548)\n",
      "(('in', 'i'), 2525)\n",
      "(('have', 'har'), 2331)\n",
      "(('a', 'ett'), 2246)\n",
      "(('', '.'), 2223)\n",
      "(('will', 'att'), 2218)\n",
      "(('.', '.'), 2159)\n",
      "(('are', 'är'), 2062)\n",
      "(('the', 'omröstningen'), 2009)\n",
      "(('vote', 'kommer'), 1955)\n"
     ]
    }
   ],
   "source": [
    "for line in word_pairs.take(20):\n",
    "    print(line)"
   ]
  },
  {
   "cell_type": "markdown",
   "metadata": {},
   "source": [
    "## A.4.2\n",
    "Of the top 20 translations, most are correct. There are some errors with punctuation showing up, which could be filtrated out for slightly better results."
   ]
  },
  {
   "cell_type": "code",
   "execution_count": null,
   "metadata": {},
   "outputs": [],
   "source": []
  }
 ],
 "metadata": {
  "kernelspec": {
   "display_name": "Python 3",
   "language": "python",
   "name": "python3"
  },
  "language_info": {
   "codemirror_mode": {
    "name": "ipython",
    "version": 3
   },
   "file_extension": ".py",
   "mimetype": "text/x-python",
   "name": "python",
   "nbconvert_exporter": "python",
   "pygments_lexer": "ipython3",
   "version": "3.5.2"
  }
 },
 "nbformat": 4,
 "nbformat_minor": 2
}
