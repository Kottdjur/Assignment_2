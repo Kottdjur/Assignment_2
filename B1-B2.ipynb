{
 "cells": [
  {
   "cell_type": "markdown",
   "metadata": {},
   "source": [
    "# Question B.1\n",
    "## B.1.1"
   ]
  },
  {
   "cell_type": "code",
   "execution_count": 1,
   "metadata": {},
   "outputs": [],
   "source": [
    "from pyspark.sql import *\n",
    "spark = SparkSession.builder.getOrCreate()\n",
    "sc = SparkContext.getOrCreate()\n",
    "file_df = spark.read.csv(\"/home/emma/Documents/LDSA/Assignment_2/pay_gap_data.csv\", \\\n",
    "                         escape=\"\\\"\", ignoreLeadingWhiteSpace=True, multiLine=True, header=True, inferSchema=True)"
   ]
  },
  {
   "cell_type": "code",
   "execution_count": 2,
   "metadata": {},
   "outputs": [],
   "source": [
    "col_dtypes=dict(file_df.dtypes)"
   ]
  },
  {
   "cell_type": "markdown",
   "metadata": {},
   "source": [
    "Remove the dang \\r and \\n"
   ]
  },
  {
   "cell_type": "code",
   "execution_count": 3,
   "metadata": {},
   "outputs": [],
   "source": [
    "from pyspark.sql.functions import *\n",
    "for col in file_df.columns:\n",
    "    if col_dtypes[col] == \"string\":\n",
    "        file_df = file_df.withColumn(col, regexp_replace(col, \"\\\\n\", \"\")).withColumn(col, regexp_replace(col, \"\\\\r\", \"\"))"
   ]
  },
  {
   "cell_type": "markdown",
   "metadata": {},
   "source": [
    "Select only interesting columns:"
   ]
  },
  {
   "cell_type": "code",
   "execution_count": 6,
   "metadata": {},
   "outputs": [],
   "source": [
    "trimmed_table = file_df.select(\"EmployerName\", \"DiffMeanHourlyPercent\", \"SicCodes\")"
   ]
  },
  {
   "cell_type": "markdown",
   "metadata": {},
   "source": [
    "calculate the absolute value of the pay gap and sort by largest pay gap:"
   ]
  },
  {
   "cell_type": "code",
   "execution_count": 59,
   "metadata": {},
   "outputs": [
    {
     "name": "stdout",
     "output_type": "stream",
     "text": [
      "+------------------------------+---------------------+-----------+\n",
      "|EmployerName                  |DiffMeanHourlyPercent|AbsMeanDiff|\n",
      "+------------------------------+---------------------+-----------+\n",
      "|COMPLETE CARE HOLDINGS LIMITED|-400.0               |400.0      |\n",
      "|BARLOWS (U.K.) LIMITED        |-267.6               |267.6      |\n",
      "|MILLWALL HOLDINGS PLC         |159.0                |159.0      |\n",
      "|INBRELLA LIMITED              |-150.0               |150.0      |\n",
      "|BAR 2010 LIMITED              |-148.0               |148.0      |\n",
      "+------------------------------+---------------------+-----------+\n",
      "only showing top 5 rows\n",
      "\n"
     ]
    }
   ],
   "source": [
    "sort_by_gap = trimmed_table.select(\"EmployerName\", \"DiffMeanHourlyPercent\", \\\n",
    "                        abs(trimmed_table[\"DiffMeanHourlyPercent\"]).alias(\"AbsMeanDiff\")) \\\n",
    "                        .sort(\"AbsMeanDiff\", ascending=False)\n",
    "sort_by_gap.show(5, truncate=False)"
   ]
  },
  {
   "cell_type": "markdown",
   "metadata": {},
   "source": [
    "Sort by smallest pay gap: (There are a lot of companies with 0% difference)"
   ]
  },
  {
   "cell_type": "code",
   "execution_count": 60,
   "metadata": {},
   "outputs": [
    {
     "name": "stdout",
     "output_type": "stream",
     "text": [
      "+---------------------------------+---------------------+-----------+\n",
      "|EmployerName                     |DiffMeanHourlyPercent|AbsMeanDiff|\n",
      "+---------------------------------+---------------------+-----------+\n",
      "|ANGEL HUMAN RESOURCES LIMITED    |0.0                  |0.0        |\n",
      "|ACCA LIMITED                     |0.0                  |0.0        |\n",
      "|ACUMEN LOGISTICS GROUP LIMITED   |0.0                  |0.0        |\n",
      "|24-7 EMPLOYMENT SOLUTIONS LIMITED|0.0                  |0.0        |\n",
      "|725 LIMITED                      |0.0                  |0.0        |\n",
      "+---------------------------------+---------------------+-----------+\n",
      "only showing top 5 rows\n",
      "\n"
     ]
    }
   ],
   "source": [
    "sort_by_gap = sort_by_gap.sort(\"AbsMeanDiff\", ascending=True)\n",
    "sort_by_gap.show(5, truncate=False)"
   ]
  },
  {
   "cell_type": "markdown",
   "metadata": {},
   "source": [
    "## B.1.2\n",
    "Mean gender pay gap across all organizations:"
   ]
  },
  {
   "cell_type": "code",
   "execution_count": 9,
   "metadata": {},
   "outputs": [
    {
     "name": "stdout",
     "output_type": "stream",
     "text": [
      "+--------------------------+\n",
      "|avg(DiffMeanHourlyPercent)|\n",
      "+--------------------------+\n",
      "|        14.300142816338216|\n",
      "+--------------------------+\n",
      "\n"
     ]
    }
   ],
   "source": [
    "total_mean = trimmed_table.groupBy().mean(\"DiffMeanHourlyPercent\")\n",
    "total_mean.show()"
   ]
  },
  {
   "cell_type": "markdown",
   "metadata": {},
   "source": [
    "## B.1.3\n",
    "Save result to a csv file:"
   ]
  },
  {
   "cell_type": "code",
   "execution_count": 10,
   "metadata": {},
   "outputs": [],
   "source": [
    "total_mean.select(\"avg(DiffMeanHourlyPercent)\").write.save(\"total_mean.csv\", format=\"csv\")"
   ]
  },
  {
   "cell_type": "markdown",
   "metadata": {},
   "source": [
    "## B.1.4\n",
    "Proportion of organizations that pay women more than men on average:\n",
    "\n",
    "(Calculated by dividing the number of organizations that have a negative mean difference with the total number of organizations.)"
   ]
  },
  {
   "cell_type": "code",
   "execution_count": 11,
   "metadata": {},
   "outputs": [
    {
     "name": "stdout",
     "output_type": "stream",
     "text": [
      "0.11663334285442255\n"
     ]
    }
   ],
   "source": [
    "nr_negative = trimmed_table.filter(trimmed_table[\"DiffMeanHourlyPercent\"] < 0).count()\n",
    "print(nr_negative/trimmed_table.count())"
   ]
  },
  {
   "cell_type": "markdown",
   "metadata": {},
   "source": [
    "So only about 11% of the organizations pay women more than men on average."
   ]
  },
  {
   "cell_type": "markdown",
   "metadata": {},
   "source": [
    "# Question B.2\n",
    "## B.2.1\n",
    "Remove entries without SicCodes:"
   ]
  },
  {
   "cell_type": "code",
   "execution_count": 12,
   "metadata": {},
   "outputs": [],
   "source": [
    "trimmed_table = trimmed_table.filter(trimmed_table[\"SicCodes\"] != \"None\")"
   ]
  },
  {
   "cell_type": "markdown",
   "metadata": {},
   "source": [
    "Remove extra SicCodes for entries that have them, and convert to int:"
   ]
  },
  {
   "cell_type": "code",
   "execution_count": 13,
   "metadata": {},
   "outputs": [],
   "source": [
    "import re\n",
    "trimmed_table = trimmed_table.withColumn(\"SicCodes\", regexp_replace(\"SicCodes\", \",\\d*\", \"\"))\n",
    "trimmed_table = trimmed_table.withColumn(\"SicCodes\", trimmed_table.SicCodes.cast(\"int\"))"
   ]
  },
  {
   "cell_type": "markdown",
   "metadata": {},
   "source": [
    "Load the csv with SicCodes and broadcast: (I fixed in the file to make it not multiline beforehand)"
   ]
  },
  {
   "cell_type": "code",
   "execution_count": 15,
   "metadata": {},
   "outputs": [],
   "source": [
    "siccodes_df = spark.read.csv(\"/home/emma/Documents/LDSA/Assignment_2/UK2007SicCodes.csv\", header=True, inferSchema=True)\n",
    "siccodes = []\n",
    "for line in siccodes_df.collect():\n",
    "    for i in range(line.Max - line.Min + 1):\n",
    "        siccodes.append((line.Min + i, line.Sector))\n",
    "\n",
    "siccodes_br = sc.broadcast(sc.parallelize(siccodes).collectAsMap())"
   ]
  },
  {
   "cell_type": "markdown",
   "metadata": {},
   "source": [
    "Map the sector to the sic codes (ignoring sic codes of 1):"
   ]
  },
  {
   "cell_type": "code",
   "execution_count": 16,
   "metadata": {},
   "outputs": [],
   "source": [
    "from pyspark.sql.functions import UserDefinedFunction\n",
    "sic_match = UserDefinedFunction(lambda x: siccodes_br.value[int(x/1000)])\n",
    "\n",
    "trimmed_table = trimmed_table.filter(trimmed_table[\"SicCodes\"] != 1) \\\n",
    "                        .withColumn(\"Sector\", sic_match(\"SicCodes\"))"
   ]
  },
  {
   "cell_type": "code",
   "execution_count": 61,
   "metadata": {},
   "outputs": [
    {
     "name": "stdout",
     "output_type": "stream",
     "text": [
      "+------------------------------------+---------------------+--------+-------------------------------------------------------------------+\n",
      "|EmployerName                        |DiffMeanHourlyPercent|SicCodes|Sector                                                             |\n",
      "+------------------------------------+---------------------+--------+-------------------------------------------------------------------+\n",
      "|\"Bryanston School\",Incorporated     |18.0                 |85310   |EDUCATION                                                          |\n",
      "|\"RED BAND\" CHEMICAL COMPANY, LIMITED|2.3                  |47730   |WHOLESALE AND RETAIL TRADE REPAIR OF MOTOR VEHICLES AND MOTORCYCLES|\n",
      "|118 LIMITED                         |1.7                  |61900   |INFORMATION AND COMMUNICATION                                      |\n",
      "|123 EMPLOYEES LTD                   |41.0                 |78300   |ADMINISTRATIVE AND SUPPORT SERVICE ACTIVITIES                      |\n",
      "|1610 LIMITED                        |-22.0                |93110   |ARTS ENTERTAINMENT AND RECREATION                                  |\n",
      "+------------------------------------+---------------------+--------+-------------------------------------------------------------------+\n",
      "only showing top 5 rows\n",
      "\n"
     ]
    }
   ],
   "source": [
    "trimmed_table.show(5, truncate=False)"
   ]
  },
  {
   "cell_type": "markdown",
   "metadata": {},
   "source": [
    "## B.2.2\n",
    "Compute and sort by mean pay gap:"
   ]
  },
  {
   "cell_type": "code",
   "execution_count": 50,
   "metadata": {},
   "outputs": [],
   "source": [
    "sector_mean = trimmed_table.groupBy(\"Sector\") \\\n",
    "                        .mean(\"DiffMeanHourlyPercent\") \\\n",
    "                        .withColumnRenamed(\"avg(DiffMeanHourlyPercent)\", \"MeanDiff\")"
   ]
  },
  {
   "cell_type": "code",
   "execution_count": 39,
   "metadata": {},
   "outputs": [
    {
     "name": "stdout",
     "output_type": "stream",
     "text": [
      "+--------------------+------------------+\n",
      "|              Sector|          MeanDiff|\n",
      "+--------------------+------------------+\n",
      "|ACTIVITIES OF HOU...| 3.133333333333333|\n",
      "|HUMAN HEALTH AND ...| 6.588755622188904|\n",
      "|WATER SUPPLY SEWE...| 7.499999999999998|\n",
      "|ACCOMMODATION AND...| 7.934003656307122|\n",
      "|PUBLIC ADMINISTRA...| 9.176190476190477|\n",
      "|ACTIVITIES OF EXT...| 9.944444444444445|\n",
      "|TRANSPORTATION AN...|10.213910761154864|\n",
      "|ADMINISTRATIVE AN...|11.274045801526723|\n",
      "|           EDUCATION|11.714520547945208|\n",
      "|OTHER SERVICE ACT...| 12.46292682926829|\n",
      "|AGRICULTURE FORES...|              12.8|\n",
      "|       MANUFACTURING| 13.30329670329671|\n",
      "|WHOLESALE AND RET...| 14.92169999999999|\n",
      "|ELECTRICITY GAS S...| 15.27818181818182|\n",
      "|REAL ESTATE ACTIV...|16.024799999999995|\n",
      "|PROFESSIONAL SCIE...|18.477335164835157|\n",
      "|INFORMATION AND C...|19.500473933649314|\n",
      "|ARTS ENTERTAINMEN...|20.689416058394166|\n",
      "|MINING AND QUARRYING|20.729999999999997|\n",
      "|        CONSTRUCTION|21.707570977917985|\n",
      "|FINANCIAL AND INS...|26.421882951653938|\n",
      "+--------------------+------------------+\n",
      "\n"
     ]
    }
   ],
   "source": [
    "sector_mean.sort(\"MeanDiff\").show(21)"
   ]
  },
  {
   "cell_type": "markdown",
   "metadata": {},
   "source": [
    "## B.2.3\n",
    "Let's calculate the variance in mean hourly pay gaps as well:"
   ]
  },
  {
   "cell_type": "code",
   "execution_count": 51,
   "metadata": {},
   "outputs": [],
   "source": [
    "sector_var = trimmed_table.groupBy(\"Sector\") \\\n",
    "                        .agg(variance(trimmed_table.DiffMeanHourlyPercent)) \\\n",
    "                        .withColumnRenamed(\"var_samp(DiffMeanHourlyPercent)\", \"VarDiff\")"
   ]
  },
  {
   "cell_type": "code",
   "execution_count": 53,
   "metadata": {},
   "outputs": [],
   "source": [
    "sector_stat = sector_mean.join(sector_var, [\"Sector\"])"
   ]
  },
  {
   "cell_type": "code",
   "execution_count": 63,
   "metadata": {},
   "outputs": [
    {
     "name": "stdout",
     "output_type": "stream",
     "text": [
      "+--------------------+------------------+------------------+\n",
      "|              Sector|          MeanDiff|           VarDiff|\n",
      "+--------------------+------------------+------------------+\n",
      "|ACTIVITIES OF HOU...| 3.133333333333333| 4.853333333333333|\n",
      "|HUMAN HEALTH AND ...| 6.588755622188904| 382.6790775783276|\n",
      "|WATER SUPPLY SEWE...| 7.499999999999998|182.80441176470592|\n",
      "|ACCOMMODATION AND...| 7.934003656307122| 92.24821892306353|\n",
      "|PUBLIC ADMINISTRA...| 9.176190476190477|153.89112659698029|\n",
      "|ACTIVITIES OF EXT...| 9.944444444444445| 53.88527777777777|\n",
      "|TRANSPORTATION AN...|10.213910761154864| 205.6516217709626|\n",
      "|ADMINISTRATIVE AN...|11.274045801526723|209.92382495885113|\n",
      "|           EDUCATION|11.714520547945208| 146.8952006623513|\n",
      "|OTHER SERVICE ACT...| 12.46292682926829|181.57783452893355|\n",
      "|AGRICULTURE FORES...|              12.8|156.11877551020405|\n",
      "|       MANUFACTURING| 13.30329670329671|158.05136009152116|\n",
      "|WHOLESALE AND RET...| 14.92169999999999|198.42528439439434|\n",
      "|ELECTRICITY GAS S...| 15.27818181818182|161.99173737373735|\n",
      "|REAL ESTATE ACTIV...|16.024799999999995|222.04284774193547|\n",
      "|PROFESSIONAL SCIE...|18.477335164835157| 292.3287428201097|\n",
      "|INFORMATION AND C...|19.500473933649314|130.29016604563708|\n",
      "|ARTS ENTERTAINMEN...|20.689416058394166|  819.136041416005|\n",
      "|MINING AND QUARRYING|20.729999999999997|147.53806779661014|\n",
      "|        CONSTRUCTION|21.707570977917985|495.79215768877566|\n",
      "|FINANCIAL AND INS...|26.421882951653938|197.72691787401985|\n",
      "+--------------------+------------------+------------------+\n",
      "\n"
     ]
    }
   ],
   "source": [
    "sector_stat.sort(\"MeanDiff\").show(21)"
   ]
  },
  {
   "cell_type": "markdown",
   "metadata": {},
   "source": [
    "This shows that for some sectors, despite having a low average pay gap, there is a lot of variance between individual organizations. The only one with low variance is the one with lowest mean difference."
   ]
  },
  {
   "cell_type": "code",
   "execution_count": null,
   "metadata": {},
   "outputs": [],
   "source": []
  }
 ],
 "metadata": {
  "kernelspec": {
   "display_name": "Python 3",
   "language": "python",
   "name": "python3"
  },
  "language_info": {
   "codemirror_mode": {
    "name": "ipython",
    "version": 3
   },
   "file_extension": ".py",
   "mimetype": "text/x-python",
   "name": "python",
   "nbconvert_exporter": "python",
   "pygments_lexer": "ipython3",
   "version": "3.5.2"
  }
 },
 "nbformat": 4,
 "nbformat_minor": 2
}
